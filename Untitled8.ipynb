{
  "nbformat": 4,
  "nbformat_minor": 0,
  "metadata": {
    "colab": {
      "provenance": [],
      "mount_file_id": "11aZdLQDdOJT98Ffj1c8lXSiv04CawMiX",
      "authorship_tag": "ABX9TyMKkLMuRCoOM68kLhGb8o4m",
      "include_colab_link": true
    },
    "kernelspec": {
      "name": "python3",
      "display_name": "Python 3"
    },
    "language_info": {
      "name": "python"
    }
  },
  "cells": [
    {
      "cell_type": "markdown",
      "metadata": {
        "id": "view-in-github",
        "colab_type": "text"
      },
      "source": [
        "<a href=\"https://colab.research.google.com/github/zahafdonia/federateur/blob/main/Untitled8.ipynb\" target=\"_parent\"><img src=\"https://colab.research.google.com/assets/colab-badge.svg\" alt=\"Open In Colab\"/></a>"
      ]
    },
    {
      "cell_type": "code",
      "execution_count": 1,
      "metadata": {
        "colab": {
          "base_uri": "https://localhost:8080/"
        },
        "id": "j6GgcAno5Y-j",
        "outputId": "ceb4d762-ab7c-43d9-b0dd-f2b409fce0af"
      },
      "outputs": [
        {
          "output_type": "stream",
          "name": "stdout",
          "text": [
            "Drive already mounted at /content/drive; to attempt to forcibly remount, call drive.mount(\"/content/drive\", force_remount=True).\n"
          ]
        }
      ],
      "source": [
        "from google.colab import drive\n",
        "drive.mount('/content/drive')\n",
        "\n",
        "\n"
      ]
    },
    {
      "cell_type": "code",
      "source": [
        "!apt-get update -qq\n",
        "!apt-get install -y -qq ffmpeg\n",
        "!ffmpeg -version"
      ],
      "metadata": {
        "colab": {
          "base_uri": "https://localhost:8080/"
        },
        "id": "OVEC5TXuCcZz",
        "outputId": "046f6a9a-6595-4ca5-a0ea-8d6dff14afa7"
      },
      "execution_count": 2,
      "outputs": [
        {
          "output_type": "stream",
          "name": "stdout",
          "text": [
            "W: Skipping acquire of configured file 'main/source/Sources' as repository 'https://r2u.stat.illinois.edu/ubuntu jammy InRelease' does not seem to provide it (sources.list entry misspelt?)\n",
            "ffmpeg version 4.4.2-0ubuntu0.22.04.1 Copyright (c) 2000-2021 the FFmpeg developers\n",
            "built with gcc 11 (Ubuntu 11.2.0-19ubuntu1)\n",
            "configuration: --prefix=/usr --extra-version=0ubuntu0.22.04.1 --toolchain=hardened --libdir=/usr/lib/x86_64-linux-gnu --incdir=/usr/include/x86_64-linux-gnu --arch=amd64 --enable-gpl --disable-stripping --enable-gnutls --enable-ladspa --enable-libaom --enable-libass --enable-libbluray --enable-libbs2b --enable-libcaca --enable-libcdio --enable-libcodec2 --enable-libdav1d --enable-libflite --enable-libfontconfig --enable-libfreetype --enable-libfribidi --enable-libgme --enable-libgsm --enable-libjack --enable-libmp3lame --enable-libmysofa --enable-libopenjpeg --enable-libopenmpt --enable-libopus --enable-libpulse --enable-librabbitmq --enable-librubberband --enable-libshine --enable-libsnappy --enable-libsoxr --enable-libspeex --enable-libsrt --enable-libssh --enable-libtheora --enable-libtwolame --enable-libvidstab --enable-libvorbis --enable-libvpx --enable-libwebp --enable-libx265 --enable-libxml2 --enable-libxvid --enable-libzimg --enable-libzmq --enable-libzvbi --enable-lv2 --enable-omx --enable-openal --enable-opencl --enable-opengl --enable-sdl2 --enable-pocketsphinx --enable-librsvg --enable-libmfx --enable-libdc1394 --enable-libdrm --enable-libiec61883 --enable-chromaprint --enable-frei0r --enable-libx264 --enable-shared\n",
            "libavutil      56. 70.100 / 56. 70.100\n",
            "libavcodec     58.134.100 / 58.134.100\n",
            "libavformat    58. 76.100 / 58. 76.100\n",
            "libavdevice    58. 13.100 / 58. 13.100\n",
            "libavfilter     7.110.100 /  7.110.100\n",
            "libswscale      5.  9.100 /  5.  9.100\n",
            "libswresample   3.  9.100 /  3.  9.100\n",
            "libpostproc    55.  9.100 / 55.  9.100\n"
          ]
        }
      ]
    },
    {
      "cell_type": "code",
      "source": [
        "import os\n",
        "\n",
        "# 📂 Chemin vers le dossier contenant tes vidéos\n",
        "DRIVE_VIDEOS_DIR = \"/content/drive/MyDrive/dataPFA/train\"\n",
        "\n",
        "# 📂 Dossier de sortie des fichiers audio\n",
        "OUTPUT_AUDIO_DIR = \"/content/drive/MyDrive/dataPFA/meetings_audio_wav\"\n",
        "os.makedirs(OUTPUT_AUDIO_DIR, exist_ok=True)\n",
        "\n",
        "print(\"Input:\", DRIVE_VIDEOS_DIR)\n",
        "print(\"Output:\", OUTPUT_AUDIO_DIR)\n"
      ],
      "metadata": {
        "colab": {
          "base_uri": "https://localhost:8080/"
        },
        "id": "MsHzmg_ECccV",
        "outputId": "03a157c4-0cb5-41e5-9c59-9262f49f3e9b"
      },
      "execution_count": 3,
      "outputs": [
        {
          "output_type": "stream",
          "name": "stdout",
          "text": [
            "Input: /content/drive/MyDrive/dataPFA/train\n",
            "Output: /content/drive/MyDrive/dataPFA/meetings_audio_wav\n"
          ]
        }
      ]
    },
    {
      "cell_type": "code",
      "source": [
        "import glob, subprocess, shlex\n",
        "from pathlib import Path\n",
        "import csv\n",
        "\n",
        "video_files = glob.glob(os.path.join(DRIVE_VIDEOS_DIR, \"*\"))\n",
        "video_files = [v for v in video_files if v.lower().endswith(('.mp4', '.mkv', '.mov', '.avi', '.webm'))]\n",
        "\n",
        "metadata = []\n",
        "print(f\"{len(video_files)} vidéos trouvées.\")\n",
        "\n",
        "for vf in video_files:\n",
        "    stem = Path(vf).stem.replace(\" \", \"_\")\n",
        "    outwav = os.path.join(OUTPUT_AUDIO_DIR, f\"{stem}.wav\")\n",
        "    cmd = f'ffmpeg -y -i {shlex.quote(vf)} -ar 16000 -ac 1 -vn {shlex.quote(outwav)}'\n",
        "    ret = subprocess.call(cmd, shell=True)\n",
        "    if ret == 0:\n",
        "        # Récupérer la durée pour le metadata\n",
        "        dur_cmd = f\"ffprobe -v error -show_entries format=duration -of default=noprint_wrappers=1:nokey=1 {shlex.quote(outwav)}\"\n",
        "        try:\n",
        "            dur = subprocess.check_output(dur_cmd, shell=True).decode().strip()\n",
        "        except:\n",
        "            dur = \"unknown\"\n",
        "        metadata.append({\"original_video\": vf, \"audio_file\": outwav, \"duration_sec\": dur})\n",
        "        print(f\"✅ {outwav}\")\n",
        "    else:\n",
        "        print(f\"❌ Erreur conversion: {vf}\")\n",
        "\n",
        "# Sauvegarde d’un petit fichier CSV\n",
        "csv_path = os.path.join(OUTPUT_AUDIO_DIR, \"metadata_audio.csv\")\n",
        "with open(csv_path, \"w\", newline='', encoding='utf-8') as f:\n",
        "    writer = csv.DictWriter(f, fieldnames=[\"original_video\", \"audio_file\", \"duration_sec\"])\n",
        "    writer.writeheader()\n",
        "    writer.writerows(metadata)\n",
        "\n",
        "print(\"\\nConversion terminée ✅\")\n",
        "print(\"Metadata sauvegardé ici:\", csv_path)\n"
      ],
      "metadata": {
        "colab": {
          "base_uri": "https://localhost:8080/"
        },
        "id": "LKDKx9ulCcfr",
        "outputId": "f98df5b9-32d2-4c05-e39b-2a739efd27db"
      },
      "execution_count": 4,
      "outputs": [
        {
          "output_type": "stream",
          "name": "stdout",
          "text": [
            "34 vidéos trouvées.\n",
            "✅ /content/drive/MyDrive/dataPFA/meetings_audio_wav/Préparation_à_la_certification_AI-900-20250624_191440-Enregistrement_de_la_réunion.wav\n",
            "✅ /content/drive/MyDrive/dataPFA/meetings_audio_wav/Préparation_à_la_certification_AI-900-20250625_191533-Enregistrement_de_la_réunion.wav\n",
            "✅ /content/drive/MyDrive/dataPFA/meetings_audio_wav/Préparation_à_la_certification_AI-900-20250702_192336-Enregistrement_de_la_réunion.wav\n",
            "✅ /content/drive/MyDrive/dataPFA/meetings_audio_wav/Préparation_à_la_certification_AI-900-20250703_191935-Enregistrement_de_la_réunion.wav\n",
            "✅ /content/drive/MyDrive/dataPFA/meetings_audio_wav/WhatsApp_Vidéo_2025-10-04_à_21.32.52_49e953bd.wav\n",
            "✅ /content/drive/MyDrive/dataPFA/meetings_audio_wav/WhatsApp_Vidéo_2025-10-04_à_21.35.18_bf4d9497.wav\n",
            "✅ /content/drive/MyDrive/dataPFA/meetings_audio_wav/Préparation_Certification_AI-900-20250709_192436-Enregistrement_de_la_réunion.wav\n",
            "✅ /content/drive/MyDrive/dataPFA/meetings_audio_wav/Réunion_dans_« General »-20241022_163125-Enregistrement_de_la_réunion.wav\n",
            "✅ /content/drive/MyDrive/dataPFA/meetings_audio_wav/Réunion_dans_« General »-20241217_100035-Enregistrement_de_la_réunion.wav\n",
            "✅ /content/drive/MyDrive/dataPFA/meetings_audio_wav/Théorie_des_Graphes-20241214_091400-Enregistrement_de_la_réunion.wav\n",
            "✅ /content/drive/MyDrive/dataPFA/meetings_audio_wav/Validation_du_Projet_Laravel-20250203_181459-Enregistrement_de_la_réunion.wav\n",
            "✅ /content/drive/MyDrive/dataPFA/meetings_audio_wav/Validation_du_Projet_Laravel-20250215_212906-Enregistrement_de_la_réunion.wav\n",
            "✅ /content/drive/MyDrive/dataPFA/meetings_audio_wav/Installation_SQL_Server-20250310_092316-Enregistrement_de_la_réunion.wav\n",
            "✅ /content/drive/MyDrive/dataPFA/meetings_audio_wav/Job_Customer-20250219_111917-Enregistrement_de_la_réunion.wav\n",
            "✅ /content/drive/MyDrive/dataPFA/meetings_audio_wav/Génération_d'un_Cube-20250407_091346-Enregistrement_de_la_réunion.wav\n",
            "✅ /content/drive/MyDrive/dataPFA/meetings_audio_wav/Projet_de_développement_(approche_agile_SCRUM)-20241113_204145 – Enregistrement_de_la_réunion.wav\n",
            "✅ /content/drive/MyDrive/dataPFA/meetings_audio_wav/Validation_du_Projet_Laravel-20250215_184528-Enregistrement_de_la_réunion.wav\n",
            "✅ /content/drive/MyDrive/dataPFA/meetings_audio_wav/General-20241026_074045-Meeting_Recording.wav\n",
            "✅ /content/drive/MyDrive/dataPFA/meetings_audio_wav/General-20241223_100914-Enregistrement_de_la_réunion.wav\n",
            "✅ /content/drive/MyDrive/dataPFA/meetings_audio_wav/Programmation_Orientée_Objet_Avancée-20241211_190636-Enregistrement_de_la_réunion.wav\n",
            "✅ /content/drive/MyDrive/dataPFA/meetings_audio_wav/Théorie_des_Graphes-20241207_110330-Enregistrement_de_la_réunion_(1).wav\n",
            "✅ /content/drive/MyDrive/dataPFA/meetings_audio_wav/Théorie_des_Graphes-20241207_110330-Enregistrement_de_la_réunion.wav\n",
            "✅ /content/drive/MyDrive/dataPFA/meetings_audio_wav/Frameworks_&_enivronment_BIG_DATA-20250307_143602-Enregistrement_de_la_réunion.wav\n",
            "✅ /content/drive/MyDrive/dataPFA/meetings_audio_wav/Business_Intelligence-20250312_101509-Enregistrement_de_la_réunion.wav\n",
            "✅ /content/drive/MyDrive/dataPFA/meetings_audio_wav/General-20241102_074308-Meeting_Recording.wav\n",
            "✅ /content/drive/MyDrive/dataPFA/meetings_audio_wav/General-20241130_110410-Enregistrement_de_la_réunion.wav\n",
            "✅ /content/drive/MyDrive/dataPFA/meetings_audio_wav/General-20241123_094200-Meeting_Recording.wav\n",
            "✅ /content/drive/MyDrive/dataPFA/meetings_audio_wav/Projet_de_développement_(approche_agile_SCRUM)-20241101_180439-Meeting_Recording.wav\n",
            "✅ /content/drive/MyDrive/dataPFA/meetings_audio_wav/Validation_du_Projet_Laravel-20250203_182748-Enregistrement_de_la_réunion.wav\n",
            "✅ /content/drive/MyDrive/dataPFA/meetings_audio_wav/Frameworks_&_enivronment_BIG_DATA-20250307_143602-Enregistrement_de_la_réunion_(1).wav\n",
            "✅ /content/drive/MyDrive/dataPFA/meetings_audio_wav/نصائح_لمراجعة_الباك_(كيفاه_جبت_15.35)___Révision_BAC.wav\n",
            "✅ /content/drive/MyDrive/dataPFA/meetings_audio_wav/[Français]_-_Le_Plan_Du_Travail_Bac.wav\n",
            "✅ /content/drive/MyDrive/dataPFA/meetings_audio_wav/Tips_&_Tricks_for_the_english_exam.wav\n",
            "✅ /content/drive/MyDrive/dataPFA/meetings_audio_wav/شرح_مبسط_لكل_الازمنة_في_اللغة_الانجلبزية.wav\n",
            "\n",
            "Conversion terminée ✅\n",
            "Metadata sauvegardé ici: /content/drive/MyDrive/dataPFA/meetings_audio_wav/metadata_audio.csv\n"
          ]
        }
      ]
    },
    {
      "cell_type": "code",
      "source": [
        "import pandas as pd\n",
        "meta = pd.read_csv(csv_path)\n",
        "display(meta.head())\n",
        "print(f\"{len(meta)} fichiers audio créés.\")\n"
      ],
      "metadata": {
        "colab": {
          "base_uri": "https://localhost:8080/",
          "height": 223
        },
        "id": "DDX9rtxKH39w",
        "outputId": "5d51e950-bbc9-40c7-9785-55a6f17c8a5f"
      },
      "execution_count": 5,
      "outputs": [
        {
          "output_type": "display_data",
          "data": {
            "text/plain": [
              "                                      original_video  \\\n",
              "0  /content/drive/MyDrive/dataPFA/train/Préparat...   \n",
              "1  /content/drive/MyDrive/dataPFA/train/Préparat...   \n",
              "2  /content/drive/MyDrive/dataPFA/train/Préparat...   \n",
              "3  /content/drive/MyDrive/dataPFA/train/Préparat...   \n",
              "4  /content/drive/MyDrive/dataPFA/train/WhatsApp ...   \n",
              "\n",
              "                                          audio_file  duration_sec  \n",
              "0  /content/drive/MyDrive/dataPFA/meetings_audio_...    6882.81600  \n",
              "1  /content/drive/MyDrive/dataPFA/meetings_audio_...    7063.68000  \n",
              "2  /content/drive/MyDrive/dataPFA/meetings_audio_...    7071.93600  \n",
              "3  /content/drive/MyDrive/dataPFA/meetings_audio_...    8176.76800  \n",
              "4  /content/drive/MyDrive/dataPFA/meetings_audio_...      30.90575  "
            ],
            "text/html": [
              "\n",
              "  <div id=\"df-850abe95-ef52-4c15-ac68-6673c03d6e2e\" class=\"colab-df-container\">\n",
              "    <div>\n",
              "<style scoped>\n",
              "    .dataframe tbody tr th:only-of-type {\n",
              "        vertical-align: middle;\n",
              "    }\n",
              "\n",
              "    .dataframe tbody tr th {\n",
              "        vertical-align: top;\n",
              "    }\n",
              "\n",
              "    .dataframe thead th {\n",
              "        text-align: right;\n",
              "    }\n",
              "</style>\n",
              "<table border=\"1\" class=\"dataframe\">\n",
              "  <thead>\n",
              "    <tr style=\"text-align: right;\">\n",
              "      <th></th>\n",
              "      <th>original_video</th>\n",
              "      <th>audio_file</th>\n",
              "      <th>duration_sec</th>\n",
              "    </tr>\n",
              "  </thead>\n",
              "  <tbody>\n",
              "    <tr>\n",
              "      <th>0</th>\n",
              "      <td>/content/drive/MyDrive/dataPFA/train/Préparat...</td>\n",
              "      <td>/content/drive/MyDrive/dataPFA/meetings_audio_...</td>\n",
              "      <td>6882.81600</td>\n",
              "    </tr>\n",
              "    <tr>\n",
              "      <th>1</th>\n",
              "      <td>/content/drive/MyDrive/dataPFA/train/Préparat...</td>\n",
              "      <td>/content/drive/MyDrive/dataPFA/meetings_audio_...</td>\n",
              "      <td>7063.68000</td>\n",
              "    </tr>\n",
              "    <tr>\n",
              "      <th>2</th>\n",
              "      <td>/content/drive/MyDrive/dataPFA/train/Préparat...</td>\n",
              "      <td>/content/drive/MyDrive/dataPFA/meetings_audio_...</td>\n",
              "      <td>7071.93600</td>\n",
              "    </tr>\n",
              "    <tr>\n",
              "      <th>3</th>\n",
              "      <td>/content/drive/MyDrive/dataPFA/train/Préparat...</td>\n",
              "      <td>/content/drive/MyDrive/dataPFA/meetings_audio_...</td>\n",
              "      <td>8176.76800</td>\n",
              "    </tr>\n",
              "    <tr>\n",
              "      <th>4</th>\n",
              "      <td>/content/drive/MyDrive/dataPFA/train/WhatsApp ...</td>\n",
              "      <td>/content/drive/MyDrive/dataPFA/meetings_audio_...</td>\n",
              "      <td>30.90575</td>\n",
              "    </tr>\n",
              "  </tbody>\n",
              "</table>\n",
              "</div>\n",
              "    <div class=\"colab-df-buttons\">\n",
              "\n",
              "  <div class=\"colab-df-container\">\n",
              "    <button class=\"colab-df-convert\" onclick=\"convertToInteractive('df-850abe95-ef52-4c15-ac68-6673c03d6e2e')\"\n",
              "            title=\"Convert this dataframe to an interactive table.\"\n",
              "            style=\"display:none;\">\n",
              "\n",
              "  <svg xmlns=\"http://www.w3.org/2000/svg\" height=\"24px\" viewBox=\"0 -960 960 960\">\n",
              "    <path d=\"M120-120v-720h720v720H120Zm60-500h600v-160H180v160Zm220 220h160v-160H400v160Zm0 220h160v-160H400v160ZM180-400h160v-160H180v160Zm440 0h160v-160H620v160ZM180-180h160v-160H180v160Zm440 0h160v-160H620v160Z\"/>\n",
              "  </svg>\n",
              "    </button>\n",
              "\n",
              "  <style>\n",
              "    .colab-df-container {\n",
              "      display:flex;\n",
              "      gap: 12px;\n",
              "    }\n",
              "\n",
              "    .colab-df-convert {\n",
              "      background-color: #E8F0FE;\n",
              "      border: none;\n",
              "      border-radius: 50%;\n",
              "      cursor: pointer;\n",
              "      display: none;\n",
              "      fill: #1967D2;\n",
              "      height: 32px;\n",
              "      padding: 0 0 0 0;\n",
              "      width: 32px;\n",
              "    }\n",
              "\n",
              "    .colab-df-convert:hover {\n",
              "      background-color: #E2EBFA;\n",
              "      box-shadow: 0px 1px 2px rgba(60, 64, 67, 0.3), 0px 1px 3px 1px rgba(60, 64, 67, 0.15);\n",
              "      fill: #174EA6;\n",
              "    }\n",
              "\n",
              "    .colab-df-buttons div {\n",
              "      margin-bottom: 4px;\n",
              "    }\n",
              "\n",
              "    [theme=dark] .colab-df-convert {\n",
              "      background-color: #3B4455;\n",
              "      fill: #D2E3FC;\n",
              "    }\n",
              "\n",
              "    [theme=dark] .colab-df-convert:hover {\n",
              "      background-color: #434B5C;\n",
              "      box-shadow: 0px 1px 3px 1px rgba(0, 0, 0, 0.15);\n",
              "      filter: drop-shadow(0px 1px 2px rgba(0, 0, 0, 0.3));\n",
              "      fill: #FFFFFF;\n",
              "    }\n",
              "  </style>\n",
              "\n",
              "    <script>\n",
              "      const buttonEl =\n",
              "        document.querySelector('#df-850abe95-ef52-4c15-ac68-6673c03d6e2e button.colab-df-convert');\n",
              "      buttonEl.style.display =\n",
              "        google.colab.kernel.accessAllowed ? 'block' : 'none';\n",
              "\n",
              "      async function convertToInteractive(key) {\n",
              "        const element = document.querySelector('#df-850abe95-ef52-4c15-ac68-6673c03d6e2e');\n",
              "        const dataTable =\n",
              "          await google.colab.kernel.invokeFunction('convertToInteractive',\n",
              "                                                    [key], {});\n",
              "        if (!dataTable) return;\n",
              "\n",
              "        const docLinkHtml = 'Like what you see? Visit the ' +\n",
              "          '<a target=\"_blank\" href=https://colab.research.google.com/notebooks/data_table.ipynb>data table notebook</a>'\n",
              "          + ' to learn more about interactive tables.';\n",
              "        element.innerHTML = '';\n",
              "        dataTable['output_type'] = 'display_data';\n",
              "        await google.colab.output.renderOutput(dataTable, element);\n",
              "        const docLink = document.createElement('div');\n",
              "        docLink.innerHTML = docLinkHtml;\n",
              "        element.appendChild(docLink);\n",
              "      }\n",
              "    </script>\n",
              "  </div>\n",
              "\n",
              "\n",
              "    <div id=\"df-53cb3968-e206-4e0f-8f78-1e6d02ba1d1e\">\n",
              "      <button class=\"colab-df-quickchart\" onclick=\"quickchart('df-53cb3968-e206-4e0f-8f78-1e6d02ba1d1e')\"\n",
              "                title=\"Suggest charts\"\n",
              "                style=\"display:none;\">\n",
              "\n",
              "<svg xmlns=\"http://www.w3.org/2000/svg\" height=\"24px\"viewBox=\"0 0 24 24\"\n",
              "     width=\"24px\">\n",
              "    <g>\n",
              "        <path d=\"M19 3H5c-1.1 0-2 .9-2 2v14c0 1.1.9 2 2 2h14c1.1 0 2-.9 2-2V5c0-1.1-.9-2-2-2zM9 17H7v-7h2v7zm4 0h-2V7h2v10zm4 0h-2v-4h2v4z\"/>\n",
              "    </g>\n",
              "</svg>\n",
              "      </button>\n",
              "\n",
              "<style>\n",
              "  .colab-df-quickchart {\n",
              "      --bg-color: #E8F0FE;\n",
              "      --fill-color: #1967D2;\n",
              "      --hover-bg-color: #E2EBFA;\n",
              "      --hover-fill-color: #174EA6;\n",
              "      --disabled-fill-color: #AAA;\n",
              "      --disabled-bg-color: #DDD;\n",
              "  }\n",
              "\n",
              "  [theme=dark] .colab-df-quickchart {\n",
              "      --bg-color: #3B4455;\n",
              "      --fill-color: #D2E3FC;\n",
              "      --hover-bg-color: #434B5C;\n",
              "      --hover-fill-color: #FFFFFF;\n",
              "      --disabled-bg-color: #3B4455;\n",
              "      --disabled-fill-color: #666;\n",
              "  }\n",
              "\n",
              "  .colab-df-quickchart {\n",
              "    background-color: var(--bg-color);\n",
              "    border: none;\n",
              "    border-radius: 50%;\n",
              "    cursor: pointer;\n",
              "    display: none;\n",
              "    fill: var(--fill-color);\n",
              "    height: 32px;\n",
              "    padding: 0;\n",
              "    width: 32px;\n",
              "  }\n",
              "\n",
              "  .colab-df-quickchart:hover {\n",
              "    background-color: var(--hover-bg-color);\n",
              "    box-shadow: 0 1px 2px rgba(60, 64, 67, 0.3), 0 1px 3px 1px rgba(60, 64, 67, 0.15);\n",
              "    fill: var(--button-hover-fill-color);\n",
              "  }\n",
              "\n",
              "  .colab-df-quickchart-complete:disabled,\n",
              "  .colab-df-quickchart-complete:disabled:hover {\n",
              "    background-color: var(--disabled-bg-color);\n",
              "    fill: var(--disabled-fill-color);\n",
              "    box-shadow: none;\n",
              "  }\n",
              "\n",
              "  .colab-df-spinner {\n",
              "    border: 2px solid var(--fill-color);\n",
              "    border-color: transparent;\n",
              "    border-bottom-color: var(--fill-color);\n",
              "    animation:\n",
              "      spin 1s steps(1) infinite;\n",
              "  }\n",
              "\n",
              "  @keyframes spin {\n",
              "    0% {\n",
              "      border-color: transparent;\n",
              "      border-bottom-color: var(--fill-color);\n",
              "      border-left-color: var(--fill-color);\n",
              "    }\n",
              "    20% {\n",
              "      border-color: transparent;\n",
              "      border-left-color: var(--fill-color);\n",
              "      border-top-color: var(--fill-color);\n",
              "    }\n",
              "    30% {\n",
              "      border-color: transparent;\n",
              "      border-left-color: var(--fill-color);\n",
              "      border-top-color: var(--fill-color);\n",
              "      border-right-color: var(--fill-color);\n",
              "    }\n",
              "    40% {\n",
              "      border-color: transparent;\n",
              "      border-right-color: var(--fill-color);\n",
              "      border-top-color: var(--fill-color);\n",
              "    }\n",
              "    60% {\n",
              "      border-color: transparent;\n",
              "      border-right-color: var(--fill-color);\n",
              "    }\n",
              "    80% {\n",
              "      border-color: transparent;\n",
              "      border-right-color: var(--fill-color);\n",
              "      border-bottom-color: var(--fill-color);\n",
              "    }\n",
              "    90% {\n",
              "      border-color: transparent;\n",
              "      border-bottom-color: var(--fill-color);\n",
              "    }\n",
              "  }\n",
              "</style>\n",
              "\n",
              "      <script>\n",
              "        async function quickchart(key) {\n",
              "          const quickchartButtonEl =\n",
              "            document.querySelector('#' + key + ' button');\n",
              "          quickchartButtonEl.disabled = true;  // To prevent multiple clicks.\n",
              "          quickchartButtonEl.classList.add('colab-df-spinner');\n",
              "          try {\n",
              "            const charts = await google.colab.kernel.invokeFunction(\n",
              "                'suggestCharts', [key], {});\n",
              "          } catch (error) {\n",
              "            console.error('Error during call to suggestCharts:', error);\n",
              "          }\n",
              "          quickchartButtonEl.classList.remove('colab-df-spinner');\n",
              "          quickchartButtonEl.classList.add('colab-df-quickchart-complete');\n",
              "        }\n",
              "        (() => {\n",
              "          let quickchartButtonEl =\n",
              "            document.querySelector('#df-53cb3968-e206-4e0f-8f78-1e6d02ba1d1e button');\n",
              "          quickchartButtonEl.style.display =\n",
              "            google.colab.kernel.accessAllowed ? 'block' : 'none';\n",
              "        })();\n",
              "      </script>\n",
              "    </div>\n",
              "\n",
              "    </div>\n",
              "  </div>\n"
            ],
            "application/vnd.google.colaboratory.intrinsic+json": {
              "type": "dataframe",
              "summary": "{\n  \"name\": \"print(f\\\"{len(meta)} fichiers audio cr\\u00e9\\u00e9s\",\n  \"rows\": 5,\n  \"fields\": [\n    {\n      \"column\": \"original_video\",\n      \"properties\": {\n        \"dtype\": \"string\",\n        \"num_unique_values\": 5,\n        \"samples\": [\n          \"/content/drive/MyDrive/dataPFA/train/Pre\\u0301paration a\\u0300 la certification AI-900-20250625_191533-Enregistrement de la re\\u0301union.mp4\",\n          \"/content/drive/MyDrive/dataPFA/train/WhatsApp Vide\\u0301o 2025-10-04 a\\u0300 21.32.52_49e953bd.mp4\",\n          \"/content/drive/MyDrive/dataPFA/train/Pre\\u0301paration a\\u0300 la certification AI-900-20250702_192336-Enregistrement de la re\\u0301union.mp4\"\n        ],\n        \"semantic_type\": \"\",\n        \"description\": \"\"\n      }\n    },\n    {\n      \"column\": \"audio_file\",\n      \"properties\": {\n        \"dtype\": \"string\",\n        \"num_unique_values\": 5,\n        \"samples\": [\n          \"/content/drive/MyDrive/dataPFA/meetings_audio_wav/Pre\\u0301paration_a\\u0300_la_certification_AI-900-20250625_191533-Enregistrement_de_la_re\\u0301union.wav\",\n          \"/content/drive/MyDrive/dataPFA/meetings_audio_wav/WhatsApp_Vide\\u0301o_2025-10-04_a\\u0300_21.32.52_49e953bd.wav\",\n          \"/content/drive/MyDrive/dataPFA/meetings_audio_wav/Pre\\u0301paration_a\\u0300_la_certification_AI-900-20250702_192336-Enregistrement_de_la_re\\u0301union.wav\"\n        ],\n        \"semantic_type\": \"\",\n        \"description\": \"\"\n      }\n    },\n    {\n      \"column\": \"duration_sec\",\n      \"properties\": {\n        \"dtype\": \"number\",\n        \"std\": 3290.4577435944398,\n        \"min\": 30.90575,\n        \"max\": 8176.768,\n        \"num_unique_values\": 5,\n        \"samples\": [\n          7063.68,\n          30.90575,\n          7071.936\n        ],\n        \"semantic_type\": \"\",\n        \"description\": \"\"\n      }\n    }\n  ]\n}"
            }
          },
          "metadata": {}
        },
        {
          "output_type": "stream",
          "name": "stdout",
          "text": [
            "34 fichiers audio créés.\n"
          ]
        }
      ]
    },
    {
      "cell_type": "code",
      "source": [
        "pip install ffmpeg-python tqdm\n"
      ],
      "metadata": {
        "colab": {
          "base_uri": "https://localhost:8080/"
        },
        "id": "Vf-dSwZ7I4Wp",
        "outputId": "3a28ca5a-22f3-41db-9927-407ec43b7585"
      },
      "execution_count": 6,
      "outputs": [
        {
          "output_type": "stream",
          "name": "stdout",
          "text": [
            "Collecting ffmpeg-python\n",
            "  Downloading ffmpeg_python-0.2.0-py3-none-any.whl.metadata (1.7 kB)\n",
            "Requirement already satisfied: tqdm in /usr/local/lib/python3.12/dist-packages (4.67.1)\n",
            "Requirement already satisfied: future in /usr/local/lib/python3.12/dist-packages (from ffmpeg-python) (1.0.0)\n",
            "Downloading ffmpeg_python-0.2.0-py3-none-any.whl (25 kB)\n",
            "Installing collected packages: ffmpeg-python\n",
            "Successfully installed ffmpeg-python-0.2.0\n"
          ]
        }
      ]
    },
    {
      "cell_type": "code",
      "source": [
        "import os\n",
        "import subprocess\n",
        "import math\n",
        "from pathlib import Path\n",
        "from tqdm import tqdm\n",
        "\n",
        "# === Paramètres ===\n",
        "INPUT_DIR = r\"/content/drive/MyDrive/dataPFA/meetings_audio_wav\"   # 🔁 chemin de ton dossier d'entrée\n",
        "OUTPUT_DIR = r\"C:\\Users\\oussema zahaf\\OneDrive\\Bureau\\projet_donia\\projet\\data\\test\"  # 🔁 dossier où stocker les segments\n",
        "SEGMENT_DURATION = 15 * 60  # 15 minutes = 900 secondes\n",
        "\n",
        "os.makedirs(OUTPUT_DIR, exist_ok=True)\n",
        "\n",
        "def get_duration_seconds(filepath):\n",
        "    cmd = [\n",
        "        \"ffprobe\", \"-v\", \"error\", \"-show_entries\", \"format=duration\",\n",
        "        \"-of\", \"default=noprint_wrappers=1:nokey=1\", filepath\n",
        "    ]\n",
        "    result = subprocess.run(cmd, capture_output=True, text=True)\n",
        "    return float(result.stdout.strip()) if result.returncode == 0 else None\n",
        "\n",
        "for file in tqdm(os.listdir(INPUT_DIR)):\n",
        "    if file.lower().endswith(\".wav\"):\n",
        "        input_path = os.path.join(INPUT_DIR, file)\n",
        "        duration = get_duration_seconds(input_path)\n",
        "        if not duration:\n",
        "            print(f\"⚠️ Durée inconnue pour {file}, ignoré.\")\n",
        "            continue\n",
        "\n",
        "        parts = math.ceil(duration / SEGMENT_DURATION)\n",
        "        base_name = Path(file).stem\n",
        "        for i in range(parts):\n",
        "            start = i * SEGMENT_DURATION\n",
        "            output_name = f\"{base_name}_part{i:03d}.wav\"\n",
        "            output_path = os.path.join(OUTPUT_DIR, output_name)\n",
        "            cmd = [\n",
        "                \"ffmpeg\", \"-y\", \"-ss\", str(start), \"-t\", str(SEGMENT_DURATION),\n",
        "                \"-i\", input_path, \"-acodec\", \"pcm_s16le\", \"-ar\", \"16000\", \"-ac\", \"1\", output_path\n",
        "            ]\n",
        "            subprocess.run(cmd, stdout=subprocess.DEVNULL, stderr=subprocess.DEVNULL)\n",
        "        print(f\"✅ {file} → {parts} segments créés.\")\n"
      ],
      "metadata": {
        "colab": {
          "base_uri": "https://localhost:8080/"
        },
        "id": "8XYO5Ts5I4Z8",
        "outputId": "2de1c352-abee-43c6-ec59-35697a04f0fc"
      },
      "execution_count": 7,
      "outputs": [
        {
          "output_type": "stream",
          "name": "stderr",
          "text": [
            "  3%|▎         | 1/35 [00:01<00:44,  1.32s/it]"
          ]
        },
        {
          "output_type": "stream",
          "name": "stdout",
          "text": [
            "✅ Préparation_à_la_certification_AI-900-20250624_191440-Enregistrement_de_la_réunion.wav → 8 segments créés.\n"
          ]
        },
        {
          "output_type": "stream",
          "name": "stderr",
          "text": [
            "\r  6%|▌         | 2/35 [00:02<00:49,  1.49s/it]"
          ]
        },
        {
          "output_type": "stream",
          "name": "stdout",
          "text": [
            "✅ Préparation_à_la_certification_AI-900-20250625_191533-Enregistrement_de_la_réunion.wav → 8 segments créés.\n"
          ]
        },
        {
          "output_type": "stream",
          "name": "stderr",
          "text": [
            "\r  9%|▊         | 3/35 [00:04<00:49,  1.54s/it]"
          ]
        },
        {
          "output_type": "stream",
          "name": "stdout",
          "text": [
            "✅ Préparation_à_la_certification_AI-900-20250702_192336-Enregistrement_de_la_réunion.wav → 8 segments créés.\n"
          ]
        },
        {
          "output_type": "stream",
          "name": "stderr",
          "text": [
            "\r 11%|█▏        | 4/35 [00:05<00:45,  1.46s/it]"
          ]
        },
        {
          "output_type": "stream",
          "name": "stdout",
          "text": [
            "✅ Préparation_à_la_certification_AI-900-20250703_191935-Enregistrement_de_la_réunion.wav → 10 segments créés.\n"
          ]
        },
        {
          "output_type": "stream",
          "name": "stderr",
          "text": [
            "\r 14%|█▍        | 5/35 [00:06<00:30,  1.02s/it]"
          ]
        },
        {
          "output_type": "stream",
          "name": "stdout",
          "text": [
            "✅ WhatsApp_Vidéo_2025-10-04_à_21.32.52_49e953bd.wav → 1 segments créés.\n"
          ]
        },
        {
          "output_type": "stream",
          "name": "stderr",
          "text": [
            "\r 17%|█▋        | 6/35 [00:06<00:22,  1.30it/s]"
          ]
        },
        {
          "output_type": "stream",
          "name": "stdout",
          "text": [
            "✅ WhatsApp_Vidéo_2025-10-04_à_21.35.18_bf4d9497.wav → 1 segments créés.\n"
          ]
        },
        {
          "output_type": "stream",
          "name": "stderr",
          "text": [
            "\r 20%|██        | 7/35 [00:07<00:23,  1.20it/s]"
          ]
        },
        {
          "output_type": "stream",
          "name": "stdout",
          "text": [
            "✅ Préparation_Certification_AI-900-20250709_192436-Enregistrement_de_la_réunion.wav → 7 segments créés.\n"
          ]
        },
        {
          "output_type": "stream",
          "name": "stderr",
          "text": [
            "\r 23%|██▎       | 8/35 [00:07<00:17,  1.54it/s]"
          ]
        },
        {
          "output_type": "stream",
          "name": "stdout",
          "text": [
            "✅ Réunion_dans_« General »-20241022_163125-Enregistrement_de_la_réunion.wav → 1 segments créés.\n"
          ]
        },
        {
          "output_type": "stream",
          "name": "stderr",
          "text": [
            "\r 26%|██▌       | 9/35 [00:07<00:14,  1.79it/s]"
          ]
        },
        {
          "output_type": "stream",
          "name": "stdout",
          "text": [
            "✅ Réunion_dans_« General »-20241217_100035-Enregistrement_de_la_réunion.wav → 2 segments créés.\n"
          ]
        },
        {
          "output_type": "stream",
          "name": "stderr",
          "text": [
            "\r 29%|██▊       | 10/35 [00:09<00:19,  1.29it/s]"
          ]
        },
        {
          "output_type": "stream",
          "name": "stdout",
          "text": [
            "✅ Théorie_des_Graphes-20241214_091400-Enregistrement_de_la_réunion.wav → 9 segments créés.\n"
          ]
        },
        {
          "output_type": "stream",
          "name": "stderr",
          "text": [
            "\r 31%|███▏      | 11/35 [00:09<00:14,  1.63it/s]"
          ]
        },
        {
          "output_type": "stream",
          "name": "stdout",
          "text": [
            "✅ Validation_du_Projet_Laravel-20250203_181459-Enregistrement_de_la_réunion.wav → 1 segments créés.\n"
          ]
        },
        {
          "output_type": "stream",
          "name": "stderr",
          "text": [
            "\r 34%|███▍      | 12/35 [00:09<00:13,  1.74it/s]"
          ]
        },
        {
          "output_type": "stream",
          "name": "stdout",
          "text": [
            "✅ Validation_du_Projet_Laravel-20250215_212906-Enregistrement_de_la_réunion.wav → 3 segments créés.\n"
          ]
        },
        {
          "output_type": "stream",
          "name": "stderr",
          "text": [
            "\r 37%|███▋      | 13/35 [00:10<00:11,  1.95it/s]"
          ]
        },
        {
          "output_type": "stream",
          "name": "stdout",
          "text": [
            "✅ Installation_SQL_Server-20250310_092316-Enregistrement_de_la_réunion.wav → 2 segments créés.\n"
          ]
        },
        {
          "output_type": "stream",
          "name": "stderr",
          "text": [
            "\r 40%|████      | 14/35 [00:10<00:10,  1.94it/s]"
          ]
        },
        {
          "output_type": "stream",
          "name": "stdout",
          "text": [
            "✅ Job_Customer-20250219_111917-Enregistrement_de_la_réunion.wav → 3 segments créés.\n"
          ]
        },
        {
          "output_type": "stream",
          "name": "stderr",
          "text": [
            "\r 43%|████▎     | 15/35 [00:11<00:10,  1.85it/s]"
          ]
        },
        {
          "output_type": "stream",
          "name": "stdout",
          "text": [
            "✅ Génération_d'un_Cube-20250407_091346-Enregistrement_de_la_réunion.wav → 4 segments créés.\n"
          ]
        },
        {
          "output_type": "stream",
          "name": "stderr",
          "text": [
            "\r 46%|████▌     | 16/35 [00:11<00:09,  2.04it/s]"
          ]
        },
        {
          "output_type": "stream",
          "name": "stdout",
          "text": [
            "✅ Projet_de_développement_(approche_agile_SCRUM)-20241113_204145 – Enregistrement_de_la_réunion.wav → 2 segments créés.\n"
          ]
        },
        {
          "output_type": "stream",
          "name": "stderr",
          "text": [
            "\r 49%|████▊     | 17/35 [00:13<00:12,  1.42it/s]"
          ]
        },
        {
          "output_type": "stream",
          "name": "stdout",
          "text": [
            "✅ Validation_du_Projet_Laravel-20250215_184528-Enregistrement_de_la_réunion.wav → 9 segments créés.\n"
          ]
        },
        {
          "output_type": "stream",
          "name": "stderr",
          "text": [
            "\r 51%|█████▏    | 18/35 [00:13<00:09,  1.77it/s]"
          ]
        },
        {
          "output_type": "stream",
          "name": "stdout",
          "text": [
            "✅ General-20241026_074045-Meeting_Recording.wav → 1 segments créés.\n"
          ]
        },
        {
          "output_type": "stream",
          "name": "stderr",
          "text": [
            "\r 54%|█████▍    | 19/35 [00:14<00:10,  1.54it/s]"
          ]
        },
        {
          "output_type": "stream",
          "name": "stdout",
          "text": [
            "✅ General-20241223_100914-Enregistrement_de_la_réunion.wav → 6 segments créés.\n"
          ]
        },
        {
          "output_type": "stream",
          "name": "stderr",
          "text": [
            "\r 57%|█████▋    | 20/35 [00:14<00:07,  1.90it/s]"
          ]
        },
        {
          "output_type": "stream",
          "name": "stdout",
          "text": [
            "✅ Programmation_Orientée_Objet_Avancée-20241211_190636-Enregistrement_de_la_réunion.wav → 1 segments créés.\n"
          ]
        },
        {
          "output_type": "stream",
          "name": "stderr",
          "text": [
            "\r 60%|██████    | 21/35 [00:14<00:06,  2.06it/s]"
          ]
        },
        {
          "output_type": "stream",
          "name": "stdout",
          "text": [
            "✅ Théorie_des_Graphes-20241207_110330-Enregistrement_de_la_réunion_(1).wav → 2 segments créés.\n"
          ]
        },
        {
          "output_type": "stream",
          "name": "stderr",
          "text": [
            "\r 63%|██████▎   | 22/35 [00:15<00:06,  1.95it/s]"
          ]
        },
        {
          "output_type": "stream",
          "name": "stdout",
          "text": [
            "✅ Théorie_des_Graphes-20241207_110330-Enregistrement_de_la_réunion.wav → 2 segments créés.\n"
          ]
        },
        {
          "output_type": "stream",
          "name": "stderr",
          "text": [
            "\r 66%|██████▌   | 23/35 [00:15<00:05,  2.12it/s]"
          ]
        },
        {
          "output_type": "stream",
          "name": "stdout",
          "text": [
            "✅ Frameworks_&_enivronment_BIG_DATA-20250307_143602-Enregistrement_de_la_réunion.wav → 1 segments créés.\n"
          ]
        },
        {
          "output_type": "stream",
          "name": "stderr",
          "text": [
            "\r 69%|██████▊   | 24/35 [00:16<00:06,  1.63it/s]"
          ]
        },
        {
          "output_type": "stream",
          "name": "stdout",
          "text": [
            "✅ Business_Intelligence-20250312_101509-Enregistrement_de_la_réunion.wav → 4 segments créés.\n"
          ]
        },
        {
          "output_type": "stream",
          "name": "stderr",
          "text": [
            "\r 71%|███████▏  | 25/35 [00:17<00:06,  1.54it/s]"
          ]
        },
        {
          "output_type": "stream",
          "name": "stdout",
          "text": [
            "✅ General-20241102_074308-Meeting_Recording.wav → 3 segments créés.\n"
          ]
        },
        {
          "output_type": "stream",
          "name": "stderr",
          "text": [
            "\r 74%|███████▍  | 26/35 [00:17<00:05,  1.59it/s]"
          ]
        },
        {
          "output_type": "stream",
          "name": "stdout",
          "text": [
            "✅ General-20241130_110410-Enregistrement_de_la_réunion.wav → 2 segments créés.\n"
          ]
        },
        {
          "output_type": "stream",
          "name": "stderr",
          "text": [
            "\r 77%|███████▋  | 27/35 [00:18<00:04,  1.65it/s]"
          ]
        },
        {
          "output_type": "stream",
          "name": "stdout",
          "text": [
            "✅ General-20241123_094200-Meeting_Recording.wav → 2 segments créés.\n"
          ]
        },
        {
          "output_type": "stream",
          "name": "stderr",
          "text": [
            "\r 80%|████████  | 28/35 [00:19<00:04,  1.41it/s]"
          ]
        },
        {
          "output_type": "stream",
          "name": "stdout",
          "text": [
            "✅ Projet_de_développement_(approche_agile_SCRUM)-20241101_180439-Meeting_Recording.wav → 6 segments créés.\n"
          ]
        },
        {
          "output_type": "stream",
          "name": "stderr",
          "text": [
            "\r 83%|████████▎ | 29/35 [00:20<00:04,  1.22it/s]"
          ]
        },
        {
          "output_type": "stream",
          "name": "stdout",
          "text": [
            "✅ Validation_du_Projet_Laravel-20250203_182748-Enregistrement_de_la_réunion.wav → 8 segments créés.\n"
          ]
        },
        {
          "output_type": "stream",
          "name": "stderr",
          "text": [
            "\r 86%|████████▌ | 30/35 [00:21<00:03,  1.33it/s]"
          ]
        },
        {
          "output_type": "stream",
          "name": "stdout",
          "text": [
            "✅ Frameworks_&_enivronment_BIG_DATA-20250307_143602-Enregistrement_de_la_réunion_(1).wav → 4 segments créés.\n"
          ]
        },
        {
          "output_type": "stream",
          "name": "stderr",
          "text": [
            "\r 89%|████████▊ | 31/35 [00:21<00:02,  1.66it/s]"
          ]
        },
        {
          "output_type": "stream",
          "name": "stdout",
          "text": [
            "✅ نصائح_لمراجعة_الباك_(كيفاه_جبت_15.35)___Révision_BAC.wav → 1 segments créés.\n"
          ]
        },
        {
          "output_type": "stream",
          "name": "stderr",
          "text": [
            "\r 91%|█████████▏| 32/35 [00:21<00:01,  2.02it/s]"
          ]
        },
        {
          "output_type": "stream",
          "name": "stdout",
          "text": [
            "✅ [Français]_-_Le_Plan_Du_Travail_Bac.wav → 1 segments créés.\n"
          ]
        },
        {
          "output_type": "stream",
          "name": "stderr",
          "text": [
            "\r 94%|█████████▍| 33/35 [00:21<00:00,  2.40it/s]"
          ]
        },
        {
          "output_type": "stream",
          "name": "stdout",
          "text": [
            "✅ Tips_&_Tricks_for_the_english_exam.wav → 1 segments créés.\n"
          ]
        },
        {
          "output_type": "stream",
          "name": "stderr",
          "text": [
            "100%|██████████| 35/35 [00:22<00:00,  1.58it/s]"
          ]
        },
        {
          "output_type": "stream",
          "name": "stdout",
          "text": [
            "✅ شرح_مبسط_لكل_الازمنة_في_اللغة_الانجلبزية.wav → 2 segments créés.\n"
          ]
        },
        {
          "output_type": "stream",
          "name": "stderr",
          "text": [
            "\n"
          ]
        }
      ]
    },
    {
      "cell_type": "code",
      "source": [
        "import os\n",
        "import subprocess\n",
        "import math\n",
        "from pathlib import Path\n",
        "from tqdm import tqdm\n",
        "from google.colab import files\n",
        "\n",
        "# === Paramètres ===\n",
        "# 📂 Chemin vers ton dossier contenant les fichiers audio .wav dans Drive\n",
        "INPUT_DIR = \"/content/drive/MyDrive/dataPFA/meetings_audio_wav\"\n",
        "\n",
        "# 📂 Dossier local (Colab) où les segments seront sauvegardés\n",
        "OUTPUT_DIR = \"/content/test_segments\"\n",
        "os.makedirs(OUTPUT_DIR, exist_ok=True)\n",
        "\n",
        "# Durée d’un segment = 15 minutes\n",
        "SEGMENT_DURATION = 15 * 60  # 900 secondes\n",
        "\n",
        "# --- Fonction utilitaire pour connaître la durée ---\n",
        "def get_duration_seconds(filepath):\n",
        "    cmd = [\n",
        "        \"ffprobe\", \"-v\", \"error\", \"-show_entries\", \"format=duration\",\n",
        "        \"-of\", \"default=noprint_wrappers=1:nokey=1\", filepath\n",
        "    ]\n",
        "    result = subprocess.run(cmd, capture_output=True, text=True)\n",
        "    return float(result.stdout.strip()) if result.returncode == 0 else None\n",
        "\n",
        "# --- Boucle sur les fichiers .wav ---\n",
        "for file in tqdm(os.listdir(INPUT_DIR)):\n",
        "    if file.lower().endswith(\".wav\"):\n",
        "        input_path = os.path.join(INPUT_DIR, file)\n",
        "        duration = get_duration_seconds(input_path)\n",
        "        if not duration:\n",
        "            print(f\"⚠️ Durée inconnue pour {file}, ignoré.\")\n",
        "            continue\n",
        "\n",
        "        parts = math.ceil(duration / SEGMENT_DURATION)\n",
        "        base_name = Path(file).stem\n",
        "        print(f\"\\n🎧 {file} : {duration/60:.1f} min → {parts} segments de 15 min\")\n",
        "\n",
        "        for i in range(parts):\n",
        "            start = i * SEGMENT_DURATION\n",
        "            output_name = f\"{base_name}_part{i:03d}.wav\"\n",
        "            output_path = os.path.join(OUTPUT_DIR, output_name)\n",
        "\n",
        "            cmd = [\n",
        "                \"ffmpeg\", \"-y\", \"-ss\", str(start), \"-t\", str(SEGMENT_DURATION),\n",
        "                \"-i\", input_path, \"-acodec\", \"pcm_s16le\", \"-ar\", \"16000\", \"-ac\", \"1\", output_path\n",
        "            ]\n",
        "            subprocess.run(cmd, stdout=subprocess.DEVNULL, stderr=subprocess.DEVNULL)\n",
        "\n",
        "        print(f\"✅ {file} → {parts} segments créés.\")\n",
        "\n",
        "print(\"\\n✨ Découpage terminé ! Tous les segments sont dans :\", OUTPUT_DIR)\n"
      ],
      "metadata": {
        "colab": {
          "base_uri": "https://localhost:8080/"
        },
        "id": "flO8vz3zXHtH",
        "outputId": "8f0cc230-74af-464a-a37f-663a21576ba1"
      },
      "execution_count": 9,
      "outputs": [
        {
          "output_type": "stream",
          "name": "stderr",
          "text": [
            "\r  0%|          | 0/35 [00:00<?, ?it/s]"
          ]
        },
        {
          "output_type": "stream",
          "name": "stdout",
          "text": [
            "\n",
            "🎧 Préparation_à_la_certification_AI-900-20250624_191440-Enregistrement_de_la_réunion.wav : 114.7 min → 8 segments de 15 min\n"
          ]
        },
        {
          "output_type": "stream",
          "name": "stderr",
          "text": [
            "\r  3%|▎         | 1/35 [00:03<02:00,  3.55s/it]"
          ]
        },
        {
          "output_type": "stream",
          "name": "stdout",
          "text": [
            "✅ Préparation_à_la_certification_AI-900-20250624_191440-Enregistrement_de_la_réunion.wav → 8 segments créés.\n",
            "\n",
            "🎧 Préparation_à_la_certification_AI-900-20250625_191533-Enregistrement_de_la_réunion.wav : 117.7 min → 8 segments de 15 min\n"
          ]
        },
        {
          "output_type": "stream",
          "name": "stderr",
          "text": [
            "\r  6%|▌         | 2/35 [00:09<02:37,  4.77s/it]"
          ]
        },
        {
          "output_type": "stream",
          "name": "stdout",
          "text": [
            "✅ Préparation_à_la_certification_AI-900-20250625_191533-Enregistrement_de_la_réunion.wav → 8 segments créés.\n",
            "\n",
            "🎧 Préparation_à_la_certification_AI-900-20250702_192336-Enregistrement_de_la_réunion.wav : 117.9 min → 8 segments de 15 min\n"
          ]
        },
        {
          "output_type": "stream",
          "name": "stderr",
          "text": [
            "\r  9%|▊         | 3/35 [00:12<02:18,  4.34s/it]"
          ]
        },
        {
          "output_type": "stream",
          "name": "stdout",
          "text": [
            "✅ Préparation_à_la_certification_AI-900-20250702_192336-Enregistrement_de_la_réunion.wav → 8 segments créés.\n",
            "\n",
            "🎧 Préparation_à_la_certification_AI-900-20250703_191935-Enregistrement_de_la_réunion.wav : 136.3 min → 10 segments de 15 min\n"
          ]
        },
        {
          "output_type": "stream",
          "name": "stderr",
          "text": [
            "\r 11%|█▏        | 4/35 [00:17<02:18,  4.46s/it]"
          ]
        },
        {
          "output_type": "stream",
          "name": "stdout",
          "text": [
            "✅ Préparation_à_la_certification_AI-900-20250703_191935-Enregistrement_de_la_réunion.wav → 10 segments créés.\n",
            "\n",
            "🎧 WhatsApp_Vidéo_2025-10-04_à_21.32.52_49e953bd.wav : 0.5 min → 1 segments de 15 min\n"
          ]
        },
        {
          "output_type": "stream",
          "name": "stderr",
          "text": [
            "\r 14%|█▍        | 5/35 [00:17<01:28,  2.94s/it]"
          ]
        },
        {
          "output_type": "stream",
          "name": "stdout",
          "text": [
            "✅ WhatsApp_Vidéo_2025-10-04_à_21.32.52_49e953bd.wav → 1 segments créés.\n",
            "\n",
            "🎧 WhatsApp_Vidéo_2025-10-04_à_21.35.18_bf4d9497.wav : 0.6 min → 1 segments de 15 min\n"
          ]
        },
        {
          "output_type": "stream",
          "name": "stderr",
          "text": [
            "\r 17%|█▋        | 6/35 [00:18<00:58,  2.03s/it]"
          ]
        },
        {
          "output_type": "stream",
          "name": "stdout",
          "text": [
            "✅ WhatsApp_Vidéo_2025-10-04_à_21.35.18_bf4d9497.wav → 1 segments créés.\n",
            "\n",
            "🎧 Préparation_Certification_AI-900-20250709_192436-Enregistrement_de_la_réunion.wav : 99.9 min → 7 segments de 15 min\n"
          ]
        },
        {
          "output_type": "stream",
          "name": "stderr",
          "text": [
            "\r 20%|██        | 7/35 [00:21<01:09,  2.49s/it]"
          ]
        },
        {
          "output_type": "stream",
          "name": "stdout",
          "text": [
            "✅ Préparation_Certification_AI-900-20250709_192436-Enregistrement_de_la_réunion.wav → 7 segments créés.\n",
            "\n",
            "🎧 Réunion_dans_« General »-20241022_163125-Enregistrement_de_la_réunion.wav : 3.2 min → 1 segments de 15 min\n"
          ]
        },
        {
          "output_type": "stream",
          "name": "stderr",
          "text": [
            "\r 23%|██▎       | 8/35 [00:22<00:49,  1.85s/it]"
          ]
        },
        {
          "output_type": "stream",
          "name": "stdout",
          "text": [
            "✅ Réunion_dans_« General »-20241022_163125-Enregistrement_de_la_réunion.wav → 1 segments créés.\n",
            "\n",
            "🎧 Réunion_dans_« General »-20241217_100035-Enregistrement_de_la_réunion.wav : 15.4 min → 2 segments de 15 min\n"
          ]
        },
        {
          "output_type": "stream",
          "name": "stderr",
          "text": [
            "\r 26%|██▌       | 9/35 [00:23<00:40,  1.58s/it]"
          ]
        },
        {
          "output_type": "stream",
          "name": "stdout",
          "text": [
            "✅ Réunion_dans_« General »-20241217_100035-Enregistrement_de_la_réunion.wav → 2 segments créés.\n",
            "\n",
            "🎧 Théorie_des_Graphes-20241214_091400-Enregistrement_de_la_réunion.wav : 122.3 min → 9 segments de 15 min\n"
          ]
        },
        {
          "output_type": "stream",
          "name": "stderr",
          "text": [
            "\r 29%|██▊       | 10/35 [00:27<01:03,  2.53s/it]"
          ]
        },
        {
          "output_type": "stream",
          "name": "stdout",
          "text": [
            "✅ Théorie_des_Graphes-20241214_091400-Enregistrement_de_la_réunion.wav → 9 segments créés.\n",
            "\n",
            "🎧 Validation_du_Projet_Laravel-20250203_181459-Enregistrement_de_la_réunion.wav : 10.6 min → 1 segments de 15 min\n"
          ]
        },
        {
          "output_type": "stream",
          "name": "stderr",
          "text": [
            "\r 31%|███▏      | 11/35 [00:28<00:45,  1.89s/it]"
          ]
        },
        {
          "output_type": "stream",
          "name": "stdout",
          "text": [
            "✅ Validation_du_Projet_Laravel-20250203_181459-Enregistrement_de_la_réunion.wav → 1 segments créés.\n",
            "\n",
            "🎧 Validation_du_Projet_Laravel-20250215_212906-Enregistrement_de_la_réunion.wav : 30.9 min → 3 segments de 15 min\n"
          ]
        },
        {
          "output_type": "stream",
          "name": "stderr",
          "text": [
            "\r 34%|███▍      | 12/35 [00:29<00:38,  1.69s/it]"
          ]
        },
        {
          "output_type": "stream",
          "name": "stdout",
          "text": [
            "✅ Validation_du_Projet_Laravel-20250215_212906-Enregistrement_de_la_réunion.wav → 3 segments créés.\n",
            "\n",
            "🎧 Installation_SQL_Server-20250310_092316-Enregistrement_de_la_réunion.wav : 16.5 min → 2 segments de 15 min\n"
          ]
        },
        {
          "output_type": "stream",
          "name": "stderr",
          "text": [
            "\r 37%|███▋      | 13/35 [00:30<00:31,  1.44s/it]"
          ]
        },
        {
          "output_type": "stream",
          "name": "stdout",
          "text": [
            "✅ Installation_SQL_Server-20250310_092316-Enregistrement_de_la_réunion.wav → 2 segments créés.\n",
            "\n",
            "🎧 Job_Customer-20250219_111917-Enregistrement_de_la_réunion.wav : 41.7 min → 3 segments de 15 min\n"
          ]
        },
        {
          "output_type": "stream",
          "name": "stderr",
          "text": [
            "\r 40%|████      | 14/35 [00:31<00:29,  1.39s/it]"
          ]
        },
        {
          "output_type": "stream",
          "name": "stdout",
          "text": [
            "✅ Job_Customer-20250219_111917-Enregistrement_de_la_réunion.wav → 3 segments créés.\n",
            "\n",
            "🎧 Génération_d'un_Cube-20250407_091346-Enregistrement_de_la_réunion.wav : 53.5 min → 4 segments de 15 min\n"
          ]
        },
        {
          "output_type": "stream",
          "name": "stderr",
          "text": [
            "\r 43%|████▎     | 15/35 [00:33<00:31,  1.59s/it]"
          ]
        },
        {
          "output_type": "stream",
          "name": "stdout",
          "text": [
            "✅ Génération_d'un_Cube-20250407_091346-Enregistrement_de_la_réunion.wav → 4 segments créés.\n",
            "\n",
            "🎧 Projet_de_développement_(approche_agile_SCRUM)-20241113_204145 – Enregistrement_de_la_réunion.wav : 27.1 min → 2 segments de 15 min\n"
          ]
        },
        {
          "output_type": "stream",
          "name": "stderr",
          "text": [
            "\r 46%|████▌     | 16/35 [00:34<00:26,  1.39s/it]"
          ]
        },
        {
          "output_type": "stream",
          "name": "stdout",
          "text": [
            "✅ Projet_de_développement_(approche_agile_SCRUM)-20241113_204145 – Enregistrement_de_la_réunion.wav → 2 segments créés.\n",
            "\n",
            "🎧 Validation_du_Projet_Laravel-20250215_184528-Enregistrement_de_la_réunion.wav : 121.7 min → 9 segments de 15 min\n"
          ]
        },
        {
          "output_type": "stream",
          "name": "stderr",
          "text": [
            "\r 49%|████▊     | 17/35 [00:40<00:47,  2.63s/it]"
          ]
        },
        {
          "output_type": "stream",
          "name": "stdout",
          "text": [
            "✅ Validation_du_Projet_Laravel-20250215_184528-Enregistrement_de_la_réunion.wav → 9 segments créés.\n",
            "\n",
            "🎧 General-20241026_074045-Meeting_Recording.wav : 6.4 min → 1 segments de 15 min\n"
          ]
        },
        {
          "output_type": "stream",
          "name": "stderr",
          "text": [
            "\r 51%|█████▏    | 18/35 [00:40<00:33,  1.96s/it]"
          ]
        },
        {
          "output_type": "stream",
          "name": "stdout",
          "text": [
            "✅ General-20241026_074045-Meeting_Recording.wav → 1 segments créés.\n",
            "\n",
            "🎧 General-20241223_100914-Enregistrement_de_la_réunion.wav : 87.0 min → 6 segments de 15 min\n"
          ]
        },
        {
          "output_type": "stream",
          "name": "stderr",
          "text": [
            "\r 54%|█████▍    | 19/35 [00:43<00:35,  2.23s/it]"
          ]
        },
        {
          "output_type": "stream",
          "name": "stdout",
          "text": [
            "✅ General-20241223_100914-Enregistrement_de_la_réunion.wav → 6 segments créés.\n",
            "\n",
            "🎧 Programmation_Orientée_Objet_Avancée-20241211_190636-Enregistrement_de_la_réunion.wav : 9.6 min → 1 segments de 15 min\n"
          ]
        },
        {
          "output_type": "stream",
          "name": "stderr",
          "text": [
            "\r 57%|█████▋    | 20/35 [00:43<00:25,  1.70s/it]"
          ]
        },
        {
          "output_type": "stream",
          "name": "stdout",
          "text": [
            "✅ Programmation_Orientée_Objet_Avancée-20241211_190636-Enregistrement_de_la_réunion.wav → 1 segments créés.\n",
            "\n",
            "🎧 Théorie_des_Graphes-20241207_110330-Enregistrement_de_la_réunion_(1).wav : 25.2 min → 2 segments de 15 min\n"
          ]
        },
        {
          "output_type": "stream",
          "name": "stderr",
          "text": [
            "\r 60%|██████    | 21/35 [00:44<00:20,  1.46s/it]"
          ]
        },
        {
          "output_type": "stream",
          "name": "stdout",
          "text": [
            "✅ Théorie_des_Graphes-20241207_110330-Enregistrement_de_la_réunion_(1).wav → 2 segments créés.\n",
            "\n",
            "🎧 Théorie_des_Graphes-20241207_110330-Enregistrement_de_la_réunion.wav : 25.5 min → 2 segments de 15 min\n"
          ]
        },
        {
          "output_type": "stream",
          "name": "stderr",
          "text": [
            "\r 63%|██████▎   | 22/35 [00:45<00:16,  1.28s/it]"
          ]
        },
        {
          "output_type": "stream",
          "name": "stdout",
          "text": [
            "✅ Théorie_des_Graphes-20241207_110330-Enregistrement_de_la_réunion.wav → 2 segments créés.\n",
            "\n",
            "🎧 Frameworks_&_enivronment_BIG_DATA-20250307_143602-Enregistrement_de_la_réunion.wav : 12.8 min → 1 segments de 15 min\n"
          ]
        },
        {
          "output_type": "stream",
          "name": "stderr",
          "text": [
            "\r 66%|██████▌   | 23/35 [00:46<00:13,  1.11s/it]"
          ]
        },
        {
          "output_type": "stream",
          "name": "stdout",
          "text": [
            "✅ Frameworks_&_enivronment_BIG_DATA-20250307_143602-Enregistrement_de_la_réunion.wav → 1 segments créés.\n",
            "\n",
            "🎧 Business_Intelligence-20250312_101509-Enregistrement_de_la_réunion.wav : 48.5 min → 4 segments de 15 min\n"
          ]
        },
        {
          "output_type": "stream",
          "name": "stderr",
          "text": [
            "\r 69%|██████▊   | 24/35 [00:48<00:15,  1.38s/it]"
          ]
        },
        {
          "output_type": "stream",
          "name": "stdout",
          "text": [
            "✅ Business_Intelligence-20250312_101509-Enregistrement_de_la_réunion.wav → 4 segments créés.\n",
            "\n",
            "🎧 General-20241102_074308-Meeting_Recording.wav : 38.2 min → 3 segments de 15 min\n"
          ]
        },
        {
          "output_type": "stream",
          "name": "stderr",
          "text": [
            "\r 71%|███████▏  | 25/35 [00:50<00:15,  1.55s/it]"
          ]
        },
        {
          "output_type": "stream",
          "name": "stdout",
          "text": [
            "✅ General-20241102_074308-Meeting_Recording.wav → 3 segments créés.\n",
            "\n",
            "🎧 General-20241130_110410-Enregistrement_de_la_réunion.wav : 21.4 min → 2 segments de 15 min\n"
          ]
        },
        {
          "output_type": "stream",
          "name": "stderr",
          "text": [
            "\r 74%|███████▍  | 26/35 [00:51<00:13,  1.50s/it]"
          ]
        },
        {
          "output_type": "stream",
          "name": "stdout",
          "text": [
            "✅ General-20241130_110410-Enregistrement_de_la_réunion.wav → 2 segments créés.\n",
            "\n",
            "🎧 General-20241123_094200-Meeting_Recording.wav : 19.1 min → 2 segments de 15 min\n"
          ]
        },
        {
          "output_type": "stream",
          "name": "stderr",
          "text": [
            "\r 77%|███████▋  | 27/35 [00:52<00:11,  1.40s/it]"
          ]
        },
        {
          "output_type": "stream",
          "name": "stdout",
          "text": [
            "✅ General-20241123_094200-Meeting_Recording.wav → 2 segments créés.\n",
            "\n",
            "🎧 Projet_de_développement_(approche_agile_SCRUM)-20241101_180439-Meeting_Recording.wav : 78.3 min → 6 segments de 15 min\n"
          ]
        },
        {
          "output_type": "stream",
          "name": "stderr",
          "text": [
            "\r 80%|████████  | 28/35 [00:55<00:13,  1.91s/it]"
          ]
        },
        {
          "output_type": "stream",
          "name": "stdout",
          "text": [
            "✅ Projet_de_développement_(approche_agile_SCRUM)-20241101_180439-Meeting_Recording.wav → 6 segments créés.\n",
            "\n",
            "🎧 Validation_du_Projet_Laravel-20250203_182748-Enregistrement_de_la_réunion.wav : 111.0 min → 8 segments de 15 min\n"
          ]
        },
        {
          "output_type": "stream",
          "name": "stderr",
          "text": [
            "\r 83%|████████▎ | 29/35 [00:58<00:13,  2.23s/it]"
          ]
        },
        {
          "output_type": "stream",
          "name": "stdout",
          "text": [
            "✅ Validation_du_Projet_Laravel-20250203_182748-Enregistrement_de_la_réunion.wav → 8 segments créés.\n",
            "\n",
            "🎧 Frameworks_&_enivronment_BIG_DATA-20250307_143602-Enregistrement_de_la_réunion_(1).wav : 58.0 min → 4 segments de 15 min\n"
          ]
        },
        {
          "output_type": "stream",
          "name": "stderr",
          "text": [
            "\r 86%|████████▌ | 30/35 [01:00<00:10,  2.04s/it]"
          ]
        },
        {
          "output_type": "stream",
          "name": "stdout",
          "text": [
            "✅ Frameworks_&_enivronment_BIG_DATA-20250307_143602-Enregistrement_de_la_réunion_(1).wav → 4 segments créés.\n",
            "\n",
            "🎧 نصائح_لمراجعة_الباك_(كيفاه_جبت_15.35)___Révision_BAC.wav : 7.5 min → 1 segments de 15 min\n"
          ]
        },
        {
          "output_type": "stream",
          "name": "stderr",
          "text": [
            "\r 89%|████████▊ | 31/35 [01:00<00:06,  1.54s/it]"
          ]
        },
        {
          "output_type": "stream",
          "name": "stdout",
          "text": [
            "✅ نصائح_لمراجعة_الباك_(كيفاه_جبت_15.35)___Révision_BAC.wav → 1 segments créés.\n",
            "\n",
            "🎧 [Français]_-_Le_Plan_Du_Travail_Bac.wav : 4.9 min → 1 segments de 15 min\n"
          ]
        },
        {
          "output_type": "stream",
          "name": "stderr",
          "text": [
            "\r 91%|█████████▏| 32/35 [01:01<00:03,  1.18s/it]"
          ]
        },
        {
          "output_type": "stream",
          "name": "stdout",
          "text": [
            "✅ [Français]_-_Le_Plan_Du_Travail_Bac.wav → 1 segments créés.\n",
            "\n",
            "🎧 Tips_&_Tricks_for_the_english_exam.wav : 3.8 min → 1 segments de 15 min\n"
          ]
        },
        {
          "output_type": "stream",
          "name": "stderr",
          "text": [
            "\r 94%|█████████▍| 33/35 [01:01<00:01,  1.08it/s]"
          ]
        },
        {
          "output_type": "stream",
          "name": "stdout",
          "text": [
            "✅ Tips_&_Tricks_for_the_english_exam.wav → 1 segments créés.\n",
            "\n",
            "🎧 شرح_مبسط_لكل_الازمنة_في_اللغة_الانجلبزية.wav : 18.8 min → 2 segments de 15 min\n"
          ]
        },
        {
          "output_type": "stream",
          "name": "stderr",
          "text": [
            "100%|██████████| 35/35 [01:02<00:00,  1.77s/it]"
          ]
        },
        {
          "output_type": "stream",
          "name": "stdout",
          "text": [
            "✅ شرح_مبسط_لكل_الازمنة_في_اللغة_الانجلبزية.wav → 2 segments créés.\n",
            "\n",
            "✨ Découpage terminé ! Tous les segments sont dans : /content/test_segments\n"
          ]
        },
        {
          "output_type": "stream",
          "name": "stderr",
          "text": [
            "\n"
          ]
        }
      ]
    },
    {
      "cell_type": "code",
      "source": [
        "# Afficher quelques fichiers créés\n",
        "!ls -lh /content/test_segments | head\n"
      ],
      "metadata": {
        "colab": {
          "base_uri": "https://localhost:8080/"
        },
        "id": "kTbPUamaaX3i",
        "outputId": "5cfcc122-45d9-43a7-f6b2-eb4c1c9edbd6"
      },
      "execution_count": 10,
      "outputs": [
        {
          "output_type": "stream",
          "name": "stdout",
          "text": [
            "total 2.9G\n",
            "-rw-r--r-- 1 root root  28M Oct 13 21:10 Business_Intelligence-20250312_101509-Enregistrement_de_la_réunion_part000.wav\n",
            "-rw-r--r-- 1 root root  28M Oct 13 21:10 Business_Intelligence-20250312_101509-Enregistrement_de_la_réunion_part001.wav\n",
            "-rw-r--r-- 1 root root  28M Oct 13 21:10 Business_Intelligence-20250312_101509-Enregistrement_de_la_réunion_part002.wav\n",
            "-rw-r--r-- 1 root root 6.5M Oct 13 21:10 Business_Intelligence-20250312_101509-Enregistrement_de_la_réunion_part003.wav\n",
            "-rw-r--r-- 1 root root  28M Oct 13 21:10 Frameworks_&_enivronment_BIG_DATA-20250307_143602-Enregistrement_de_la_réunion_(1)_part000.wav\n",
            "-rw-r--r-- 1 root root  28M Oct 13 21:10 Frameworks_&_enivronment_BIG_DATA-20250307_143602-Enregistrement_de_la_réunion_(1)_part001.wav\n",
            "-rw-r--r-- 1 root root  28M Oct 13 21:10 Frameworks_&_enivronment_BIG_DATA-20250307_143602-Enregistrement_de_la_réunion_(1)_part002.wav\n",
            "-rw-r--r-- 1 root root  24M Oct 13 21:10 Frameworks_&_enivronment_BIG_DATA-20250307_143602-Enregistrement_de_la_réunion_(1)_part003.wav\n",
            "-rw-r--r-- 1 root root  24M Oct 13 21:10 Frameworks_&_enivronment_BIG_DATA-20250307_143602-Enregistrement_de_la_réunion_part000.wav\n"
          ]
        }
      ]
    },
    {
      "cell_type": "code",
      "source": [
        "# Compresser les fichiers en un seul zip\n",
        "!zip -r /content/test_segments.zip /content/test_segments\n",
        "\n",
        "# Télécharger le zip vers ton ordinateur\n",
        "files.download('/content/test_segments.zip')\n"
      ],
      "metadata": {
        "colab": {
          "base_uri": "https://localhost:8080/",
          "height": 1000
        },
        "id": "A2YHQ1T5al3f",
        "outputId": "3c2f0d64-0301-4918-bd5a-b36bbcffd157"
      },
      "execution_count": 11,
      "outputs": [
        {
          "output_type": "stream",
          "name": "stdout",
          "text": [
            "  adding: content/test_segments/ (stored 0%)\n",
            "  adding: content/test_segments/Validation_du_Projet_Laravel-20250215_184528-Enregistrement_de_la_réunion_part000.wav (deflated 50%)\n",
            "  adding: content/test_segments/شرح_مبسط_لكل_الازمنة_في_اللغة_الانجلبزية_part001.wav (deflated 23%)\n",
            "  adding: content/test_segments/Validation_du_Projet_Laravel-20250215_184528-Enregistrement_de_la_réunion_part005.wav (deflated 76%)\n",
            "  adding: content/test_segments/Validation_du_Projet_Laravel-20250215_184528-Enregistrement_de_la_réunion_part006.wav (deflated 69%)\n",
            "  adding: content/test_segments/Validation_du_Projet_Laravel-20250203_182748-Enregistrement_de_la_réunion_part007.wav (deflated 63%)\n",
            "  adding: content/test_segments/Préparation_à_la_certification_AI-900-20250625_191533-Enregistrement_de_la_réunion_part005.wav (deflated 40%)\n",
            "  adding: content/test_segments/General-20241223_100914-Enregistrement_de_la_réunion_part000.wav (deflated 24%)\n",
            "  adding: content/test_segments/Validation_du_Projet_Laravel-20250203_182748-Enregistrement_de_la_réunion_part004.wav (deflated 25%)\n",
            "  adding: content/test_segments/Préparation_Certification_AI-900-20250709_192436-Enregistrement_de_la_réunion_part002.wav (deflated 55%)\n",
            "  adding: content/test_segments/Installation_SQL_Server-20250310_092316-Enregistrement_de_la_réunion_part001.wav (deflated 80%)\n",
            "  adding: content/test_segments/General-20241123_094200-Meeting_Recording_part000.wav (deflated 32%)\n",
            "  adding: content/test_segments/Projet_de_développement_(approche_agile_SCRUM)-20241101_180439-Meeting_Recording_part002.wav (deflated 42%)\n",
            "  adding: content/test_segments/Installation_SQL_Server-20250310_092316-Enregistrement_de_la_réunion_part000.wav (deflated 42%)\n",
            "  adding: content/test_segments/Théorie_des_Graphes-20241207_110330-Enregistrement_de_la_réunion_(1)_part000.wav (deflated 52%)\n",
            "  adding: content/test_segments/Validation_du_Projet_Laravel-20250203_182748-Enregistrement_de_la_réunion_part001.wav (deflated 44%)\n",
            "  adding: content/test_segments/Préparation_à_la_certification_AI-900-20250624_191440-Enregistrement_de_la_réunion_part005.wav (deflated 25%)\n",
            "  adding: content/test_segments/Réunion_dans_« General »-20241217_100035-Enregistrement_de_la_réunion_part000.wav (deflated 93%)\n",
            "  adding: content/test_segments/Préparation_Certification_AI-900-20250709_192436-Enregistrement_de_la_réunion_part000.wav (deflated 42%)\n",
            "  adding: content/test_segments/Théorie_des_Graphes-20241214_091400-Enregistrement_de_la_réunion_part005.wav (deflated 74%)\n",
            "  adding: content/test_segments/General-20241223_100914-Enregistrement_de_la_réunion_part005.wav (deflated 44%)\n",
            "  adding: content/test_segments/General-20241123_094200-Meeting_Recording_part001.wav (deflated 29%)\n",
            "  adding: content/test_segments/Frameworks_&_enivronment_BIG_DATA-20250307_143602-Enregistrement_de_la_réunion_(1)_part003.wav (deflated 36%)\n",
            "  adding: content/test_segments/Théorie_des_Graphes-20241214_091400-Enregistrement_de_la_réunion_part008.wav (deflated 51%)\n",
            "  adding: content/test_segments/Préparation_à_la_certification_AI-900-20250702_192336-Enregistrement_de_la_réunion_part007.wav (deflated 26%)\n",
            "  adding: content/test_segments/Réunion_dans_« General »-20241022_163125-Enregistrement_de_la_réunion_part000.wav (deflated 91%)\n",
            "  adding: content/test_segments/Préparation_Certification_AI-900-20250709_192436-Enregistrement_de_la_réunion_part001.wav (deflated 59%)\n",
            "  adding: content/test_segments/Théorie_des_Graphes-20241214_091400-Enregistrement_de_la_réunion_part006.wav (deflated 63%)\n",
            "  adding: content/test_segments/Préparation_à_la_certification_AI-900-20250625_191533-Enregistrement_de_la_réunion_part000.wav (deflated 21%)\n",
            "  adding: content/test_segments/Business_Intelligence-20250312_101509-Enregistrement_de_la_réunion_part001.wav (deflated 52%)\n",
            "  adding: content/test_segments/Projet_de_développement_(approche_agile_SCRUM)-20241101_180439-Meeting_Recording_part004.wav (deflated 28%)\n",
            "  adding: content/test_segments/Préparation_à_la_certification_AI-900-20250625_191533-Enregistrement_de_la_réunion_part001.wav (deflated 27%)\n",
            "  adding: content/test_segments/General-20241223_100914-Enregistrement_de_la_réunion_part003.wav (deflated 63%)\n",
            "  adding: content/test_segments/Préparation_à_la_certification_AI-900-20250624_191440-Enregistrement_de_la_réunion_part004.wav (deflated 30%)\n",
            "  adding: content/test_segments/Validation_du_Projet_Laravel-20250215_212906-Enregistrement_de_la_réunion_part001.wav (deflated 100%)\n",
            "  adding: content/test_segments/Réunion_dans_« General »-20241217_100035-Enregistrement_de_la_réunion_part001.wav (deflated 90%)\n",
            "  adding: content/test_segments/Validation_du_Projet_Laravel-20250215_184528-Enregistrement_de_la_réunion_part003.wav (deflated 45%)\n",
            "  adding: content/test_segments/Théorie_des_Graphes-20241214_091400-Enregistrement_de_la_réunion_part001.wav (deflated 50%)\n",
            "  adding: content/test_segments/Validation_du_Projet_Laravel-20250203_182748-Enregistrement_de_la_réunion_part003.wav (deflated 32%)\n",
            "  adding: content/test_segments/Préparation_à_la_certification_AI-900-20250702_192336-Enregistrement_de_la_réunion_part006.wav (deflated 26%)\n",
            "  adding: content/test_segments/Théorie_des_Graphes-20241207_110330-Enregistrement_de_la_réunion_(1)_part001.wav (deflated 81%)\n",
            "  adding: content/test_segments/Projet_de_développement_(approche_agile_SCRUM)-20241101_180439-Meeting_Recording_part003.wav (deflated 24%)\n",
            "  adding: content/test_segments/Préparation_à_la_certification_AI-900-20250625_191533-Enregistrement_de_la_réunion_part007.wav (deflated 29%)\n",
            "  adding: content/test_segments/WhatsApp_Vidéo_2025-10-04_à_21.32.52_49e953bd_part000.wav (deflated 18%)\n",
            "  adding: content/test_segments/Théorie_des_Graphes-20241214_091400-Enregistrement_de_la_réunion_part003.wav (deflated 62%)\n",
            "  adding: content/test_segments/Frameworks_&_enivronment_BIG_DATA-20250307_143602-Enregistrement_de_la_réunion_(1)_part001.wav (deflated 41%)\n",
            "  adding: content/test_segments/Préparation_à_la_certification_AI-900-20250703_191935-Enregistrement_de_la_réunion_part004.wav (deflated 43%)\n",
            "  adding: content/test_segments/Préparation_à_la_certification_AI-900-20250703_191935-Enregistrement_de_la_réunion_part002.wav (deflated 39%)\n",
            "  adding: content/test_segments/Préparation_à_la_certification_AI-900-20250624_191440-Enregistrement_de_la_réunion_part002.wav (deflated 29%)\n",
            "  adding: content/test_segments/شرح_مبسط_لكل_الازمنة_في_اللغة_الانجلبزية_part000.wav (deflated 21%)\n",
            "  adding: content/test_segments/Préparation_à_la_certification_AI-900-20250702_192336-Enregistrement_de_la_réunion_part001.wav (deflated 37%)\n",
            "  adding: content/test_segments/Validation_du_Projet_Laravel-20250215_184528-Enregistrement_de_la_réunion_part008.wav (deflated 64%)\n",
            "  adding: content/test_segments/Préparation_à_la_certification_AI-900-20250625_191533-Enregistrement_de_la_réunion_part006.wav (deflated 28%)\n",
            "  adding: content/test_segments/Préparation_à_la_certification_AI-900-20250703_191935-Enregistrement_de_la_réunion_part009.wav (deflated 31%)\n",
            "  adding: content/test_segments/[Français]_-_Le_Plan_Du_Travail_Bac_part000.wav (deflated 20%)\n",
            "  adding: content/test_segments/Préparation_Certification_AI-900-20250709_192436-Enregistrement_de_la_réunion_part005.wav (deflated 37%)\n",
            "  adding: content/test_segments/Validation_du_Projet_Laravel-20250203_182748-Enregistrement_de_la_réunion_part006.wav (deflated 40%)\n",
            "  adding: content/test_segments/Théorie_des_Graphes-20241214_091400-Enregistrement_de_la_réunion_part000.wav (deflated 53%)\n",
            "  adding: content/test_segments/نصائح_لمراجعة_الباك_(كيفاه_جبت_15.35)___Révision_BAC_part000.wav (deflated 20%)\n",
            "  adding: content/test_segments/General-20241026_074045-Meeting_Recording_part000.wav (deflated 40%)\n",
            "  adding: content/test_segments/Préparation_Certification_AI-900-20250709_192436-Enregistrement_de_la_réunion_part003.wav (deflated 40%)\n",
            "  adding: content/test_segments/Projet_de_développement_(approche_agile_SCRUM)-20241101_180439-Meeting_Recording_part005.wav (deflated 38%)\n",
            "  adding: content/test_segments/Préparation_à_la_certification_AI-900-20250625_191533-Enregistrement_de_la_réunion_part004.wav (deflated 35%)\n",
            "  adding: content/test_segments/Préparation_à_la_certification_AI-900-20250703_191935-Enregistrement_de_la_réunion_part001.wav (deflated 39%)\n",
            "  adding: content/test_segments/Projet_de_développement_(approche_agile_SCRUM)-20241113_204145 – Enregistrement_de_la_réunion_part001.wav (deflated 34%)\n",
            "  adding: content/test_segments/Préparation_à_la_certification_AI-900-20250625_191533-Enregistrement_de_la_réunion_part002.wav (deflated 34%)\n",
            "  adding: content/test_segments/Frameworks_&_enivronment_BIG_DATA-20250307_143602-Enregistrement_de_la_réunion_part000.wav (deflated 46%)\n",
            "  adding: content/test_segments/Préparation_à_la_certification_AI-900-20250624_191440-Enregistrement_de_la_réunion_part006.wav (deflated 23%)\n",
            "  adding: content/test_segments/Préparation_à_la_certification_AI-900-20250703_191935-Enregistrement_de_la_réunion_part008.wav (deflated 33%)\n",
            "  adding: content/test_segments/Préparation_à_la_certification_AI-900-20250703_191935-Enregistrement_de_la_réunion_part000.wav (deflated 36%)\n",
            "  adding: content/test_segments/Frameworks_&_enivronment_BIG_DATA-20250307_143602-Enregistrement_de_la_réunion_(1)_part000.wav (deflated 44%)\n",
            "  adding: content/test_segments/Préparation_à_la_certification_AI-900-20250703_191935-Enregistrement_de_la_réunion_part006.wav (deflated 23%)\n",
            "  adding: content/test_segments/WhatsApp_Vidéo_2025-10-04_à_21.35.18_bf4d9497_part000.wav (deflated 20%)\n",
            "  adding: content/test_segments/General-20241102_074308-Meeting_Recording_part000.wav (deflated 69%)\n",
            "  adding: content/test_segments/Préparation_à_la_certification_AI-900-20250624_191440-Enregistrement_de_la_réunion_part003.wav (deflated 27%)\n",
            "  adding: content/test_segments/Génération_d'un_Cube-20250407_091346-Enregistrement_de_la_réunion_part001.wav (deflated 51%)\n",
            "  adding: content/test_segments/General-20241130_110410-Enregistrement_de_la_réunion_part001.wav (deflated 37%)\n",
            "  adding: content/test_segments/General-20241223_100914-Enregistrement_de_la_réunion_part001.wav (deflated 55%)\n",
            "  adding: content/test_segments/Préparation_à_la_certification_AI-900-20250702_192336-Enregistrement_de_la_réunion_part005.wav (deflated 30%)\n",
            "  adding: content/test_segments/Validation_du_Projet_Laravel-20250215_184528-Enregistrement_de_la_réunion_part004.wav (deflated 55%)\n",
            "  adding: content/test_segments/Validation_du_Projet_Laravel-20250203_182748-Enregistrement_de_la_réunion_part002.wav (deflated 53%)\n",
            "  adding: content/test_segments/Validation_du_Projet_Laravel-20250215_212906-Enregistrement_de_la_réunion_part002.wav (deflated 100%)\n",
            "  adding: content/test_segments/Tips_&_Tricks_for_the_english_exam_part000.wav (deflated 12%)\n",
            "  adding: content/test_segments/Validation_du_Projet_Laravel-20250203_182748-Enregistrement_de_la_réunion_part000.wav (deflated 40%)\n",
            "  adding: content/test_segments/Théorie_des_Graphes-20241207_110330-Enregistrement_de_la_réunion_part000.wav (deflated 52%)\n",
            "  adding: content/test_segments/Frameworks_&_enivronment_BIG_DATA-20250307_143602-Enregistrement_de_la_réunion_(1)_part002.wav (deflated 36%)\n",
            "  adding: content/test_segments/Théorie_des_Graphes-20241207_110330-Enregistrement_de_la_réunion_part001.wav (deflated 82%)\n",
            "  adding: content/test_segments/General-20241223_100914-Enregistrement_de_la_réunion_part002.wav (deflated 59%)\n",
            "  adding: content/test_segments/Génération_d'un_Cube-20250407_091346-Enregistrement_de_la_réunion_part000.wav (deflated 51%)\n",
            "  adding: content/test_segments/Validation_du_Projet_Laravel-20250215_184528-Enregistrement_de_la_réunion_part001.wav (deflated 42%)\n",
            "  adding: content/test_segments/Business_Intelligence-20250312_101509-Enregistrement_de_la_réunion_part003.wav (deflated 34%)\n",
            "  adding: content/test_segments/Job_Customer-20250219_111917-Enregistrement_de_la_réunion_part000.wav (deflated 37%)\n",
            "  adding: content/test_segments/Théorie_des_Graphes-20241214_091400-Enregistrement_de_la_réunion_part007.wav (deflated 56%)\n",
            "  adding: content/test_segments/Projet_de_développement_(approche_agile_SCRUM)-20241113_204145 – Enregistrement_de_la_réunion_part000.wav (deflated 36%)\n",
            "  adding: content/test_segments/Génération_d'un_Cube-20250407_091346-Enregistrement_de_la_réunion_part002.wav (deflated 40%)\n",
            "  adding: content/test_segments/General-20241102_074308-Meeting_Recording_part002.wav (deflated 34%)\n",
            "  adding: content/test_segments/Préparation_à_la_certification_AI-900-20250703_191935-Enregistrement_de_la_réunion_part005.wav (deflated 27%)\n",
            "  adding: content/test_segments/Préparation_à_la_certification_AI-900-20250624_191440-Enregistrement_de_la_réunion_part000.wav (deflated 27%)\n",
            "  adding: content/test_segments/Théorie_des_Graphes-20241214_091400-Enregistrement_de_la_réunion_part002.wav (deflated 57%)\n",
            "  adding: content/test_segments/Préparation_Certification_AI-900-20250709_192436-Enregistrement_de_la_réunion_part004.wav (deflated 36%)\n",
            "  adding: content/test_segments/Préparation_à_la_certification_AI-900-20250624_191440-Enregistrement_de_la_réunion_part007.wav (deflated 61%)\n",
            "  adding: content/test_segments/Business_Intelligence-20250312_101509-Enregistrement_de_la_réunion_part002.wav (deflated 49%)\n",
            "  adding: content/test_segments/Validation_du_Projet_Laravel-20250203_182748-Enregistrement_de_la_réunion_part005.wav (deflated 38%)\n",
            "  adding: content/test_segments/Préparation_à_la_certification_AI-900-20250624_191440-Enregistrement_de_la_réunion_part001.wav (deflated 25%)\n",
            "  adding: content/test_segments/Préparation_à_la_certification_AI-900-20250703_191935-Enregistrement_de_la_réunion_part003.wav (deflated 39%)\n",
            "  adding: content/test_segments/Théorie_des_Graphes-20241214_091400-Enregistrement_de_la_réunion_part004.wav (deflated 46%)\n",
            "  adding: content/test_segments/Génération_d'un_Cube-20250407_091346-Enregistrement_de_la_réunion_part003.wav (deflated 44%)\n",
            "  adding: content/test_segments/Job_Customer-20250219_111917-Enregistrement_de_la_réunion_part002.wav (deflated 42%)\n",
            "  adding: content/test_segments/Job_Customer-20250219_111917-Enregistrement_de_la_réunion_part001.wav (deflated 40%)\n",
            "  adding: content/test_segments/General-20241130_110410-Enregistrement_de_la_réunion_part000.wav (deflated 39%)\n",
            "  adding: content/test_segments/Préparation_Certification_AI-900-20250709_192436-Enregistrement_de_la_réunion_part006.wav (deflated 59%)\n",
            "  adding: content/test_segments/Validation_du_Projet_Laravel-20250203_181459-Enregistrement_de_la_réunion_part000.wav (deflated 67%)\n",
            "  adding: content/test_segments/Validation_du_Projet_Laravel-20250215_212906-Enregistrement_de_la_réunion_part000.wav (deflated 100%)\n",
            "  adding: content/test_segments/Projet_de_développement_(approche_agile_SCRUM)-20241101_180439-Meeting_Recording_part001.wav (deflated 24%)\n",
            "  adding: content/test_segments/Business_Intelligence-20250312_101509-Enregistrement_de_la_réunion_part000.wav (deflated 44%)\n",
            "  adding: content/test_segments/Programmation_Orientée_Objet_Avancée-20241211_190636-Enregistrement_de_la_réunion_part000.wav (deflated 32%)\n",
            "  adding: content/test_segments/Validation_du_Projet_Laravel-20250215_184528-Enregistrement_de_la_réunion_part007.wav (deflated 69%)\n",
            "  adding: content/test_segments/Préparation_à_la_certification_AI-900-20250702_192336-Enregistrement_de_la_réunion_part000.wav (deflated 36%)\n",
            "  adding: content/test_segments/Préparation_à_la_certification_AI-900-20250703_191935-Enregistrement_de_la_réunion_part007.wav (deflated 55%)\n",
            "  adding: content/test_segments/Projet_de_développement_(approche_agile_SCRUM)-20241101_180439-Meeting_Recording_part000.wav (deflated 40%)\n",
            "  adding: content/test_segments/Préparation_à_la_certification_AI-900-20250625_191533-Enregistrement_de_la_réunion_part003.wav (deflated 39%)\n",
            "  adding: content/test_segments/Préparation_à_la_certification_AI-900-20250702_192336-Enregistrement_de_la_réunion_part004.wav (deflated 29%)\n",
            "  adding: content/test_segments/General-20241102_074308-Meeting_Recording_part001.wav (deflated 38%)\n",
            "  adding: content/test_segments/Validation_du_Projet_Laravel-20250215_184528-Enregistrement_de_la_réunion_part002.wav (deflated 46%)\n",
            "  adding: content/test_segments/Préparation_à_la_certification_AI-900-20250702_192336-Enregistrement_de_la_réunion_part002.wav (deflated 49%)\n",
            "  adding: content/test_segments/General-20241223_100914-Enregistrement_de_la_réunion_part004.wav (deflated 45%)\n",
            "  adding: content/test_segments/Préparation_à_la_certification_AI-900-20250702_192336-Enregistrement_de_la_réunion_part003.wav (deflated 56%)\n"
          ]
        },
        {
          "output_type": "display_data",
          "data": {
            "text/plain": [
              "<IPython.core.display.Javascript object>"
            ],
            "application/javascript": [
              "\n",
              "    async function download(id, filename, size) {\n",
              "      if (!google.colab.kernel.accessAllowed) {\n",
              "        return;\n",
              "      }\n",
              "      const div = document.createElement('div');\n",
              "      const label = document.createElement('label');\n",
              "      label.textContent = `Downloading \"${filename}\": `;\n",
              "      div.appendChild(label);\n",
              "      const progress = document.createElement('progress');\n",
              "      progress.max = size;\n",
              "      div.appendChild(progress);\n",
              "      document.body.appendChild(div);\n",
              "\n",
              "      const buffers = [];\n",
              "      let downloaded = 0;\n",
              "\n",
              "      const channel = await google.colab.kernel.comms.open(id);\n",
              "      // Send a message to notify the kernel that we're ready.\n",
              "      channel.send({})\n",
              "\n",
              "      for await (const message of channel.messages) {\n",
              "        // Send a message to notify the kernel that we're ready.\n",
              "        channel.send({})\n",
              "        if (message.buffers) {\n",
              "          for (const buffer of message.buffers) {\n",
              "            buffers.push(buffer);\n",
              "            downloaded += buffer.byteLength;\n",
              "            progress.value = downloaded;\n",
              "          }\n",
              "        }\n",
              "      }\n",
              "      const blob = new Blob(buffers, {type: 'application/binary'});\n",
              "      const a = document.createElement('a');\n",
              "      a.href = window.URL.createObjectURL(blob);\n",
              "      a.download = filename;\n",
              "      div.appendChild(a);\n",
              "      a.click();\n",
              "      div.remove();\n",
              "    }\n",
              "  "
            ]
          },
          "metadata": {}
        },
        {
          "output_type": "display_data",
          "data": {
            "text/plain": [
              "<IPython.core.display.Javascript object>"
            ],
            "application/javascript": [
              "download(\"download_e03197ca-0f20-4559-a3ca-10dc2d9b8cf5\", \"test_segments.zip\", 1731258963)"
            ]
          },
          "metadata": {}
        }
      ]
    },
    {
      "cell_type": "code",
      "source": [],
      "metadata": {
        "id": "bbVW94GKbDII"
      },
      "execution_count": null,
      "outputs": []
    },
    {
      "cell_type": "code",
      "source": [],
      "metadata": {
        "id": "117N0C-2amEU"
      },
      "execution_count": null,
      "outputs": []
    }
  ]
}